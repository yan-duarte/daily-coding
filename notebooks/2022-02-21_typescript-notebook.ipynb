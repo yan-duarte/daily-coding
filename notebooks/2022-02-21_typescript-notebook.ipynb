{
 "cells": [
  {
   "cell_type": "code",
   "execution_count": 1,
   "metadata": {},
   "outputs": [],
   "source": [
    "/*\n",
    "Given an array of integers, find the first missing positive integer in linear time and \n",
    "constant space. In other words, find the lowest positive integer that does not exist in \n",
    "the array. The array can contain duplicates and negative numbers as well.\n",
    "\n",
    "For example, the input [3, 4, -1, 1] should give 2. The input [1, 2, 0] should give 3.\n",
    "\n",
    "You can modify the input array in-place.\n",
    "*/"
   ]
  },
  {
   "cell_type": "code",
   "execution_count": 2,
   "metadata": {},
   "outputs": [],
   "source": [
    "const findFirstMissingPositiveInteger = (array: number[]) => {\n",
    "    const sortedArray = array.sort();\n",
    "    \n",
    "    for (let index = 0; index<sortedArray.length; index++ ){\n",
    "        const actualNumber = sortedArray[index];\n",
    "        \n",
    "        if (index+1 === sortedArray.length) return actualNumber+1;\n",
    "        const nextNumber = sortedArray[index+1];\n",
    "        \n",
    "        if (actualNumber+1 <= 0 || actualNumber === nextNumber || actualNumber+1 == nextNumber) continue;\n",
    "        return actualNumber+1\n",
    "    }\n",
    "}"
   ]
  },
  {
   "cell_type": "code",
   "execution_count": 4,
   "metadata": {},
   "outputs": [
    {
     "name": "stdout",
     "output_type": "stream",
     "text": [
      "2\n",
      "3\n"
     ]
    }
   ],
   "source": [
    "const array1 = [3,4,-1,1]\n",
    "const array2 = [1,2,0]\n",
    "\n",
    "\n",
    "console.log(findFirstMissingPositiveInteger(array1))\n",
    "console.log(findFirstMissingPositiveInteger(array2))"
   ]
  }
 ],
 "metadata": {
  "kernelspec": {
   "display_name": "TypeScript",
   "language": "typescript",
   "name": "tslab"
  },
  "language_info": {
   "codemirror_mode": {
    "mode": "typescript",
    "name": "javascript",
    "typescript": true
   },
   "file_extension": ".ts",
   "mimetype": "text/typescript",
   "name": "typescript",
   "version": "3.7.2"
  }
 },
 "nbformat": 4,
 "nbformat_minor": 4
}
