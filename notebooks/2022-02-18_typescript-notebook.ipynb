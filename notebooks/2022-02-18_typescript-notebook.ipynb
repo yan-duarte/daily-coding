{
 "cells": [
  {
   "cell_type": "code",
   "execution_count": 1,
   "metadata": {},
   "outputs": [],
   "source": [
    "/*\n",
    "Given a list of numbers and a number k, return whether any two numbers from the list add up to k.\n",
    "\n",
    "For example, given [10, 15, 3, 7] and k of 17, return true since 10 + 7 is 17.\n",
    "\n",
    "Bonus: Can you do this in one pass?\n",
    "*/"
   ]
  },
  {
   "cell_type": "code",
   "execution_count": 2,
   "metadata": {},
   "outputs": [],
   "source": [
    "const checkIfNumberExistsInSomedTwoArrayElementsV1 = (k: number, array: number[]) => {\n",
    "    const subtractedArray = array.map(value => k - value);\n",
    "    \n",
    "    return subtractedArray.some(value =>{\n",
    "        if (array.includes(value)) return true;\n",
    "    })\n",
    "}"
   ]
  },
  {
   "cell_type": "code",
   "execution_count": 3,
   "metadata": {},
   "outputs": [],
   "source": [
    "const checkIfNumberExistsInSomedTwoArrayElementsV2 = (k: number, array: number[]) => {\n",
    "    return array.some(value =>{\n",
    "        if (array.includes(k-value)) return true;\n",
    "    })\n",
    "}"
   ]
  },
  {
   "cell_type": "code",
   "execution_count": 4,
   "metadata": {},
   "outputs": [],
   "source": [
    "const checkIfNumberExistsInSomedTwoArrayElementsV3 = (k: number, array: number[]) => {\n",
    "    let numberObj = {};\n",
    "    \n",
    "    for (let i: number = 0; i < array.length; i++) {\n",
    "        const value = array[i];\n",
    "        if (numberObj[value] === true) return true;\n",
    "        numberObj[k-value] = true;\n",
    "    }\n",
    "\n",
    "    return false;\n",
    "}"
   ]
  },
  {
   "cell_type": "code",
   "execution_count": 5,
   "metadata": {},
   "outputs": [],
   "source": [
    "const checkIfNumberExistsInSomedTwoArrayElementsV4 = (k: number, array: number[]) => {\n",
    "    let numberObj = {};\n",
    "    \n",
    "    return array.some((value:number) => {\n",
    "        if (numberObj[value] === true) return true;\n",
    "        numberObj[k-value] = true;\n",
    "    })\n",
    "}"
   ]
  },
  {
   "cell_type": "code",
   "execution_count": 6,
   "metadata": {},
   "outputs": [
    {
     "name": "stdout",
     "output_type": "stream",
     "text": [
      "***************** VERSION 01 ***************** [O(n²)]\n",
      "true\n",
      "\n",
      "***************** VERSION 02 ***************** [O(n²)]\n",
      "true\n",
      "\n",
      "***************** VERSION 03 ***************** [O(n)]\n",
      "true\n",
      "\n",
      "***************** VERSION 04 ***************** [O(n)]\n",
      "true\n"
     ]
    }
   ],
   "source": [
    "const array = [10,15,3,7];\n",
    "const k = 17;\n",
    "\n",
    "console.log(\"***************** VERSION 01 ***************** [O(n²)]\");\n",
    "console.log(checkIfNumberExistsInSomedTwoArrayElementsV1(k, array));\n",
    "console.log(\"\\n***************** VERSION 02 ***************** [O(n²)]\");\n",
    "console.log(checkIfNumberExistsInSomedTwoArrayElementsV2(k, array));\n",
    "console.log(\"\\n***************** VERSION 03 ***************** [O(n)]\");\n",
    "console.log(checkIfNumberExistsInSomedTwoArrayElementsV3(k, array));\n",
    "console.log(\"\\n***************** VERSION 04 ***************** [O(n)]\");\n",
    "console.log(checkIfNumberExistsInSomedTwoArrayElementsV4(k, array));"
   ]
  }
 ],
 "metadata": {
  "kernelspec": {
   "display_name": "TypeScript",
   "language": "typescript",
   "name": "tslab"
  },
  "language_info": {
   "codemirror_mode": {
    "mode": "typescript",
    "name": "javascript",
    "typescript": true
   },
   "file_extension": ".ts",
   "mimetype": "text/typescript",
   "name": "typescript",
   "version": "3.7.2"
  }
 },
 "nbformat": 4,
 "nbformat_minor": 4
}
