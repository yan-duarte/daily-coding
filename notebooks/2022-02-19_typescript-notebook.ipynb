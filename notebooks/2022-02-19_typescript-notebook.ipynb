{
 "cells": [
  {
   "cell_type": "code",
   "execution_count": 1,
   "metadata": {},
   "outputs": [],
   "source": [
    "/*\n",
    "Given an array of integers, return a new array such that each element at index i \n",
    "of the new array is the product of all the numbers in the original array except \n",
    "the one at i.\n",
    "\n",
    "For example, if our input was [1, 2, 3, 4, 5], the expected output would be \n",
    "[120, 60, 40, 30, 24]. If our input was [3, 2, 1], the expected output \n",
    "would be [2, 3, 6].\n",
    "\n",
    "Follow-up: what if you can't use division?\n",
    "*/"
   ]
  },
  {
   "cell_type": "code",
   "execution_count": 2,
   "metadata": {},
   "outputs": [],
   "source": [
    "const multiplyNumbersInArrayV1 = (array: number[]) => {\n",
    "    return array.map((val: number, ind: number) => {\n",
    "        let result: number = 1;\n",
    "\n",
    "        array.forEach((e, i) => {\n",
    "            result *= i==ind? 1: e\n",
    "        });\n",
    "\n",
    "        return result;    \n",
    "    })\n",
    "}"
   ]
  },
  {
   "cell_type": "code",
   "execution_count": 3,
   "metadata": {},
   "outputs": [],
   "source": [
    "const multiplyNumbersInArrayV2 = (array: number[]) => {\n",
    "    const mult = array.reduce((total, current) => total * current)\n",
    "    \n",
    "    return array.map((val) => mult / val )\n",
    "}"
   ]
  },
  {
   "cell_type": "code",
   "execution_count": 4,
   "metadata": {},
   "outputs": [
    {
     "name": "stdout",
     "output_type": "stream",
     "text": [
      "*************** O(n²) ***************\n",
      "[ 120, 60, 40, 30, 24 ]\n",
      "\n",
      "\n",
      "*************** O(2n) ***************\n",
      "[ 120, 60, 40, 30, 24 ]\n"
     ]
    }
   ],
   "source": [
    "const array = [1, 2, 3, 4, 5]\n",
    "    \n",
    "console.log(\"*************** O(n²) ***************\");\n",
    "console.log(multiplyNumbersInArrayV1(array));\n",
    "console.log(\"\\n\");\n",
    "console.log(\"*************** O(2n) ***************\");\n",
    "console.log(multiplyNumbersInArrayV2(array));\n",
    "\n"
   ]
  }
 ],
 "metadata": {
  "kernelspec": {
   "display_name": "TypeScript",
   "language": "typescript",
   "name": "tslab"
  },
  "language_info": {
   "codemirror_mode": {
    "mode": "typescript",
    "name": "javascript",
    "typescript": true
   },
   "file_extension": ".ts",
   "mimetype": "text/typescript",
   "name": "typescript",
   "version": "3.7.2"
  }
 },
 "nbformat": 4,
 "nbformat_minor": 4
}
