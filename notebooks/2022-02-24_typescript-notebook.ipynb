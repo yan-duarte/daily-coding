{
 "cells": [
  {
   "cell_type": "code",
   "execution_count": 1,
   "metadata": {},
   "outputs": [],
   "source": [
    "/*\n",
    "Given the mapping a = 1, b = 2, ... z = 26, and an encoded message, count the number of ways it can be decoded.\n",
    "\n",
    "For example, the message '111' would give 3, since it could be decoded as 'aaa', 'ka', and 'ak'.\n",
    "\n",
    "You can assume that the messages are decodable. For example, '001' is not allowed.\n",
    "*/"
   ]
  },
  {
   "cell_type": "code",
   "execution_count": 2,
   "metadata": {},
   "outputs": [],
   "source": [
    "const map = {\n",
    "    \"1\": \"a\",\n",
    "    \"2\": \"b\",\n",
    "    \"3\": \"c\",\n",
    "    \"4\": \"d\",\n",
    "    \"5\": \"e\",\n",
    "    \"6\": \"f\",\n",
    "    \"7\": \"g\",\n",
    "    \"8\": \"h\",\n",
    "    \"9\": \"i\",\n",
    "    \"10\":\"j\",\n",
    "    \"11\":\"k\",\n",
    "    \"12\":\"l\",\n",
    "    \"13\":\"m\",\n",
    "    \"14\":\"n\",\n",
    "    \"15\":\"o\",\n",
    "    \"16\":\"p\",\n",
    "    \"17\":\"q\",\n",
    "    \"18\":\"r\",\n",
    "    \"19\":\"s\",\n",
    "    \"20\":\"t\",\n",
    "    \"21\":\"u\",\n",
    "    \"22\":\"v\",\n",
    "    \"23\":\"x\",\n",
    "    \"24\":\"w\",\n",
    "    \"25\":\"y\",\n",
    "    \"26\":\"z\"\n",
    "}"
   ]
  },
  {
   "cell_type": "code",
   "execution_count": 3,
   "metadata": {},
   "outputs": [],
   "source": [
    "const countEncodedMessage = (message: string) => {\n",
    "\n",
    "    const checkLetter = (message: string, numChars: number) => {\n",
    "        let result = 0;\n",
    "        const char = message.slice(0,numChars);\n",
    "        const restMessage = message.slice(numChars);\n",
    "        \n",
    "        if (restMessage.length > 0 && !!map[char]) result += countEncodedMessage(restMessage);\n",
    "        if (restMessage.length == 0 && !!map[char] && char.length === numChars) result += 1;\n",
    "        return result;\n",
    "    }\n",
    "    \n",
    "    return checkLetter(message, 1) + checkLetter(message, 2)\n",
    "}"
   ]
  },
  {
   "cell_type": "code",
   "execution_count": 4,
   "metadata": {
    "scrolled": true
   },
   "outputs": [
    {
     "name": "stdout",
     "output_type": "stream",
     "text": [
      "2\n",
      "3\n",
      "4\n",
      "8\n"
     ]
    }
   ],
   "source": [
    "let message = \"1777\"; // 'aggg' // 'qgg' -> 2\n",
    "console.log(countEncodedMessage(message))\n",
    "\n",
    "message = \"111\"; // 'aaa' // 'ak' // 'ka' -> 3\n",
    "console.log(countEncodedMessage(message))\n",
    "\n",
    "message = \"26262727\"; // 'bfbfbgbg' // 'bfzbgbg' // 'zbfbgbg' // 'zzbgbg' -> 4\n",
    "console.log(countEncodedMessage(message))\n",
    "\n",
    "message = \"262626\"; // bfbfbf // bfbfz // bfzbf // bfzz // zbfbf // zbfz // zzbf // zzz -> 8\n",
    "console.log(countEncodedMessage(message))"
   ]
  },
  {
   "cell_type": "code",
   "execution_count": null,
   "metadata": {},
   "outputs": [],
   "source": []
  }
 ],
 "metadata": {
  "kernelspec": {
   "display_name": "TypeScript",
   "language": "typescript",
   "name": "tslab"
  },
  "language_info": {
   "codemirror_mode": {
    "mode": "typescript",
    "name": "javascript",
    "typescript": true
   },
   "file_extension": ".ts",
   "mimetype": "text/typescript",
   "name": "typescript",
   "version": "3.7.2"
  }
 },
 "nbformat": 4,
 "nbformat_minor": 4
}
